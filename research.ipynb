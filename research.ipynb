{
 "cells": [
  {
   "cell_type": "code",
   "execution_count": 2,
   "metadata": {},
   "outputs": [
    {
     "data": {
      "text/plain": [
       "True"
      ]
     },
     "execution_count": 2,
     "metadata": {},
     "output_type": "execute_result"
    }
   ],
   "source": [
    "import google.generativeai as genai\n",
    "from dotenv import load_dotenv\n",
    "import os\n",
    "load_dotenv()"
   ]
  },
  {
   "cell_type": "code",
   "execution_count": 3,
   "metadata": {},
   "outputs": [],
   "source": [
    "genai.configure(api_key=os.getenv(\"GOOGLE_API_KEY\"))"
   ]
  },
  {
   "cell_type": "code",
   "execution_count": 13,
   "metadata": {},
   "outputs": [],
   "source": [
    "audio_file = genai.upload_file(path='harvard.wav')"
   ]
  },
  {
   "cell_type": "code",
   "execution_count": 14,
   "metadata": {},
   "outputs": [
    {
     "name": "stdout",
     "output_type": "stream",
     "text": [
      "## Key Points from Audio:\n",
      "\n",
      "* **Unpleasant Smell:** The audio starts by describing a stale smell, like old beer, that requires heat to become noticeable.\n",
      "* **Food and Remedies:** \n",
      "    * A \"cold dip\" is mentioned as something that restores health and zest. \n",
      "    * A salty pickle paired with ham is enjoyed.\n",
      "    * Tacos al pastor are the speaker's favorite.\n",
      "    * The \"hot cross bun\" is described as a zestful food.\n",
      "\n",
      "**Possible Context:**\n",
      "\n",
      "While the context is not explicitly stated, the audio seems to be describing someone's experience with food and smell, perhaps after a night of drinking. The mention of remedies like the \"cold dip\" and the enjoyment of flavorful food suggests a focus on recovery and revitalization. \n",
      "\n"
     ]
    }
   ],
   "source": [
    "prompt = \"\"\"\n",
    "Listen the provided audio file carefully and provide key points from the audio file.\n",
    "\"\"\"\n",
    "model = genai.GenerativeModel(\"models/gemini-1.5-pro-latest\")\n",
    "response = model.generate_content([prompt,audio_file])\n",
    "print(response.text)"
   ]
  },
  {
   "cell_type": "code",
   "execution_count": 15,
   "metadata": {},
   "outputs": [
    {
     "data": {
      "text/plain": [
       "total_tokens: 608"
      ]
     },
     "execution_count": 15,
     "metadata": {},
     "output_type": "execute_result"
    }
   ],
   "source": [
    "model.count_tokens([audio_file])"
   ]
  }
 ],
 "metadata": {
  "kernelspec": {
   "display_name": "Python 3",
   "language": "python",
   "name": "python3"
  },
  "language_info": {
   "codemirror_mode": {
    "name": "ipython",
    "version": 3
   },
   "file_extension": ".py",
   "mimetype": "text/x-python",
   "name": "python",
   "nbconvert_exporter": "python",
   "pygments_lexer": "ipython3",
   "version": "3.11.8"
  },
  "orig_nbformat": 4
 },
 "nbformat": 4,
 "nbformat_minor": 2
}
